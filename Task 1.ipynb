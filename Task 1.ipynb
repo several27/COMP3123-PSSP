{
 "cells": [
  {
   "cell_type": "code",
   "execution_count": 65,
   "metadata": {},
   "outputs": [],
   "source": [
    "import os\n",
    "from collections import defaultdict\n",
    "\n",
    "import numpy as np"
   ]
  },
  {
   "cell_type": "markdown",
   "metadata": {},
   "source": [
    "# Read ICML2014 dataset"
   ]
  },
  {
   "cell_type": "code",
   "execution_count": 2,
   "metadata": {},
   "outputs": [],
   "source": [
    "data = np.load('data/cullpdb+profile_6133.npy.gz')"
   ]
  },
  {
   "cell_type": "code",
   "execution_count": 3,
   "metadata": {},
   "outputs": [
    {
     "data": {
      "text/plain": [
       "(6133, 39900)"
      ]
     },
     "execution_count": 3,
     "metadata": {},
     "output_type": "execute_result"
    }
   ],
   "source": [
    "data.shape"
   ]
  },
  {
   "cell_type": "code",
   "execution_count": 4,
   "metadata": {},
   "outputs": [],
   "source": [
    "data = data.reshape((data.shape[0], 700, 57))"
   ]
  },
  {
   "cell_type": "code",
   "execution_count": 5,
   "metadata": {},
   "outputs": [
    {
     "data": {
      "text/plain": [
       "(6133, 700, 57)"
      ]
     },
     "execution_count": 5,
     "metadata": {},
     "output_type": "execute_result"
    }
   ],
   "source": [
    "data.shape"
   ]
  },
  {
   "cell_type": "code",
   "execution_count": 6,
   "metadata": {},
   "outputs": [],
   "source": [
    "n_train = 5600\n",
    "n_test = 5877-5605\n",
    "n_val = 6133-5877"
   ]
  },
  {
   "cell_type": "code",
   "execution_count": 7,
   "metadata": {},
   "outputs": [],
   "source": [
    "x_train = data[:n_train,:,:22]\n",
    "x_test = data[n_train:n_train+n_test,:,:22]\n",
    "x_val = data[n_train+n_test:,:,:22]\n",
    "\n",
    "y_train = data[:n_train,:,22:31]\n",
    "y_test = data[n_train:n_train+n_test,:,22:31]\n",
    "y_val = data[n_train+n_test:,:,22:31]"
   ]
  },
  {
   "cell_type": "code",
   "execution_count": 8,
   "metadata": {},
   "outputs": [],
   "source": [
    "labels_amino_acids = ['A', 'C', 'E', 'D', 'G', 'F', 'I', 'H', 'K', 'M', 'L', 'N', 'Q', 'P', 'S', 'R', 'T', 'W', 'V', \n",
    "                      'Y', 'X', None]\n",
    "labels_sec_structure = ['L', 'B', 'E', 'G', 'I', 'H', 'S', 'T', None]"
   ]
  },
  {
   "cell_type": "code",
   "execution_count": 9,
   "metadata": {},
   "outputs": [],
   "source": [
    "def one_hot_to_sequences(one_hot_vector, encoding):\n",
    "    sequences = []\n",
    "    for s in one_hot_vector:\n",
    "        sequence = []\n",
    "        for l in s:\n",
    "            letter = encoding[np.where(l == 1)[0][0]]\n",
    "            if letter is not None:\n",
    "                sequence.append(letter)\n",
    "        sequences.append(sequence)\n",
    "    \n",
    "    return sequences"
   ]
  },
  {
   "cell_type": "code",
   "execution_count": 10,
   "metadata": {},
   "outputs": [],
   "source": [
    "x_train_sequences = one_hot_to_sequences(x_train, labels_amino_acids)\n",
    "x_test_sequences = one_hot_to_sequences(x_test, labels_amino_acids)\n",
    "x_val_sequences = one_hot_to_sequences(x_val, labels_amino_acids)\n",
    "\n",
    "y_train_sequences = one_hot_to_sequences(y_train, labels_sec_structure)\n",
    "y_test_sequences = one_hot_to_sequences(y_test, labels_sec_structure)\n",
    "y_val_sequences = one_hot_to_sequences(y_val, labels_sec_structure)"
   ]
  },
  {
   "cell_type": "markdown",
   "metadata": {},
   "source": [
    "# Predictions"
   ]
  },
  {
   "cell_type": "markdown",
   "metadata": {},
   "source": [
    "## JPred4"
   ]
  },
  {
   "cell_type": "code",
   "execution_count": 11,
   "metadata": {},
   "outputs": [],
   "source": [
    "import jpredapi"
   ]
  },
  {
   "cell_type": "code",
   "execution_count": 34,
   "metadata": {},
   "outputs": [],
   "source": [
    "def reduction_8_to_3(seq):\n",
    "    new_seq = []\n",
    "    for state in seq:\n",
    "        new_state = '-'\n",
    "        if state in ('H', 'G'):\n",
    "            new_state = 'H'\n",
    "        elif state in ('E', 'B'):\n",
    "            new_state = 'E'\n",
    "            \n",
    "        new_seq.append(new_state)\n",
    "    \n",
    "    return new_seq"
   ]
  },
  {
   "cell_type": "code",
   "execution_count": 44,
   "metadata": {},
   "outputs": [],
   "source": [
    "def sequence_to_array(seq):\n",
    "    arr = []\n",
    "    for state in seq:\n",
    "        state_idx = 0\n",
    "        if state in ('H', 'G'):\n",
    "            state_idx = 1\n",
    "        elif state in ('E', 'B'):\n",
    "            state_idx = 2\n",
    "            \n",
    "        arr.append(state_idx)\n",
    "    \n",
    "    return np.array(arr)\n",
    "\n",
    "def sequence_accuracy(a, b):\n",
    "    a, b = sequence_to_array(a), sequence_to_array(b)\n",
    "    return np.mean(np.equal(a, b))"
   ]
  },
  {
   "cell_type": "code",
   "execution_count": 45,
   "metadata": {},
   "outputs": [
    {
     "name": "stdout",
     "output_type": "stream",
     "text": [
      "GTNAAMRKAFNYQDTAKNGKKCSGCAQFVPGASPTAAGGCKVIPGDNQIAPGGYCDAFIVKK                                                                                        \n",
      "LLLHHHHHHTTLBSSLBTTBLGGGBTTEELLSSTTSLBEETTSTTLLLBLTTLBLTTLLBLL\n",
      "---HHHHHH---E---E--E-HHHE--EE--------EEE--------E----E-----E--\n",
      "---HHHHHHH------------------------------EEEE----------EEE-----\n",
      "Accuracy: 0.6290322580645161\n"
     ]
    }
   ],
   "source": [
    "print(''.join(x_test_sequences[0]))\n",
    "print(''.join(y_test_sequences[0]))\n",
    "\n",
    "jpred_output = '-,-,-,H,H,H,H,H,H,H,-,-,-,-,-,-,-,-,-,-,-,-,-,-,-,-,-,-,-,-,-,-,-,-,-,-,-,-,-,-,E,E,E,E,-,-,-,-,' + \\\n",
    "    '-,-,-,-,-,-,E,E,E,-,-,-,-,-,'\n",
    "\n",
    "print(''.join(reduction_8_to_3(y_test_sequences[0])))\n",
    "print(''.join(jpred_output.split(',')[:-1]))\n",
    "\n",
    "print('Accuracy: %s' % sequence_accuracy(y_test_sequences[0], jpred_output.split(',')[:-1]))"
   ]
  },
  {
   "cell_type": "code",
   "execution_count": 23,
   "metadata": {},
   "outputs": [
    {
     "name": "stdout",
     "output_type": "stream",
     "text": [
      "GTNAAMRKAFNYQDTAKNGKKCSGCAQFVPGASPTAAGGCKVIPGDNQIAPGGYCDAFIVKK                                                                                        \n",
      "AIEKRLASLLTGQGLAFRVQDASLPGRPDFVVDEYRCVIFTHGCFWHHHHCYLFKVPATRTEFWLEKIGKNVERDRRDISRLQELGWRVLIVWECALRGREKLTDEALTERLEEWICGEGASAQIDTQGIHLLA                \n",
      "XSLVEATLEVIGGKWKXVILXHLTHGKKRTSELKRLXPNITQKXLTQQLRELEADGVINRIVYNQVPPKVEYELSEYGRSLEGILDXLXAWGANHINR                                                    \n",
      "SNIGIRDLAVQFSCIEAVNMASKILKSYESSLPQTQQVDLDLSRPLFTSAALLSACKILKLKVDKNKMVATSGVKKAIFDRLCKQLEKIGQQV                                                         \n",
      "ERRVRELTEATNDILWEFTADLSEVLVINSAYEDIWGRSVAKLRENPHDFLNGIHPEDRELMKDTMQSLMDGESADVECRVNATEEYQRWVWIQGEPITNDAGETVRVAGFARDIT                                  \n",
      "ADERLQFTATTLSGAPFDGASLQGKPAVLWFWTPWCPFCNAEAPSLSQVAAANPAVTFVGIATRADVGAMQSFVSKYNLNFTNLNDADGVIWARYNVPWQPAFVFYRADGTSTFVNNPTAAMSQDELSGRVAAL                \n",
      "GGVTDALSLXYSTSTGGPASIAANALTDFDLSGALTVNSVGTGLTKSAAGIQLAAGKSGLYQITXTVKNNTVTTGNYLLRVKYGSSDFVVACPASSLTAGGTISLLIYCNVLGVVSLDVLKFSLCNDGAALSNYIINITAAKIN      \n"
     ]
    }
   ],
   "source": [
    "for seq in x_test_sequences[:10]:\n",
    "    if len(seq) < 150:\n",
    "        for _ in range(len(seq), 150):\n",
    "            seq.append(' ')\n",
    "    elif len(seq) > 150:\n",
    "        continue\n",
    "\n",
    "    print(''.join(seq))"
   ]
  },
  {
   "cell_type": "code",
   "execution_count": 20,
   "metadata": {},
   "outputs": [
    {
     "data": {
      "text/plain": [
       "134"
      ]
     },
     "execution_count": 20,
     "metadata": {},
     "output_type": "execute_result"
    }
   ],
   "source": [
    "len('AIEKRLASLLTGQGLAFRVQDASLPGRPDFVVDEYRCVIFTHGCFWHHHHCYLFKVPATRTEFWLEKIGKNVERDRRDISRLQELGWRVLIVWECALRGREKLTDEALTERLEEWICGEGASAQIDTQGIHLLA')"
   ]
  },
  {
   "cell_type": "code",
   "execution_count": 17,
   "metadata": {},
   "outputs": [
    {
     "data": {
      "text/plain": [
       "'LLLHHHHHHTTLBSSLBTTBLGGGBTTEELLSSTTSLBEETTSTTLLLBLTTLBLTTLLBLL'"
      ]
     },
     "execution_count": 17,
     "metadata": {},
     "output_type": "execute_result"
    }
   ],
   "source": [
    "''.join(y_test_sequences[0])"
   ]
  },
  {
   "cell_type": "code",
   "execution_count": 46,
   "metadata": {},
   "outputs": [
    {
     "name": "stdout",
     "output_type": "stream",
     "text": [
      "Your job will be submitted with the following parameters:\n",
      "format: seq\n",
      "skipPDB: on\n",
      "seq: GTNAAMRKAFNYQDTAKNGKKCSGCAQFVPGASPTAAGGCKVIPGDNQIAPGGYCDAFIVKK                                                                                        \n",
      "Created JPred job with jobid: jp_2bRS0l7\n",
      "You can check the status of the job using the following URL: http://www.compbio.dundee.ac.uk/jpred4/cgi-bin/chklog?jp_2bRS0l7\n"
     ]
    }
   ],
   "source": [
    "r = jpredapi.submit(mode='single', user_format='raw', seq=''.join(x_test_sequences[0]), skipPDB=True)"
   ]
  },
  {
   "cell_type": "code",
   "execution_count": 15,
   "metadata": {},
   "outputs": [
    {
     "name": "stdout",
     "output_type": "stream",
     "text": [
      "Your job status will be checked with the following parameters:\n",
      "Job id: jp_8uZHLfq\n",
      "Get results: False\n",
      "Job jp_8uZHLfq finished. Results available at the following URL:\n",
      "http://www.compbio.dundee.ac.uk/jpred4/results/jp_8uZHLfq/jp_8uZHLfq.results.html\n",
      "\n",
      "\n"
     ]
    }
   ],
   "source": [
    "jpredapi.status(job_id='jp_8uZHLfq')"
   ]
  },
  {
   "cell_type": "code",
   "execution_count": 16,
   "metadata": {},
   "outputs": [
    {
     "name": "stdout",
     "output_type": "stream",
     "text": [
      "Your job status will be checked with the following parameters:\n",
      "Job id: jp_8uZHLfq\n",
      "Get results: True\n",
      "Job jp_8uZHLfq finished. Results available at the following URL:\n",
      "http://www.compbio.dundee.ac.uk/jpred4/results/jp_8uZHLfq/jp_8uZHLfq.results.html\n",
      "\n",
      "\n",
      "Saving results to: /home/ubuntu/COMP3212/data/jpred_sspred/results/jp_8uZHLfq\n"
     ]
    }
   ],
   "source": [
    "jpredapi.get_results(job_id='jp_8uZHLfq', results_dir_path='data/jpred_sspred/results', extract=True)"
   ]
  },
  {
   "cell_type": "code",
   "execution_count": 14,
   "metadata": {},
   "outputs": [
    {
     "data": {
      "text/plain": [
       "272"
      ]
     },
     "execution_count": 14,
     "metadata": {},
     "output_type": "execute_result"
    }
   ],
   "source": [
    "len(x_test_sequences)"
   ]
  },
  {
   "cell_type": "code",
   "execution_count": 30,
   "metadata": {},
   "outputs": [
    {
     "name": "stdout",
     "output_type": "stream",
     "text": [
      "GTNAAMRKAFNYQDTAKNGKKCSGCAQFVPGASPTAAGGCKVIPGDNQIAPGGYCDAFIVKK\n",
      "LLLHHHHHHTTLBSSLBTTBLGGGBTTEELLSSTTSLBEETTSTTLLLBLTTLBLTTLLBLL\n",
      "CCCHHHHHHEEEHHHHHTHTCCCCEEEEHHHCCCCCCCCCCCCCTCTCCCCTCEEHEEEHHC\n"
     ]
    }
   ],
   "source": [
    "print(''.join(x_test_sequences[0]))\n",
    "print(''.join(y_test_sequences[0]))\n",
    "print('CCCHHHHHHEEEHHHHHTHTCCCCEEEEHHHCCCCCCCCCCCCCTCTCCCCTCEEHEEEHHC')"
   ]
  },
  {
   "cell_type": "markdown",
   "metadata": {},
   "source": [
    "## JPred4 - working 🤗"
   ]
  },
  {
   "cell_type": "code",
   "execution_count": 62,
   "metadata": {},
   "outputs": [],
   "source": [
    "x_test_sequences_filtered = []\n",
    "y_test_sequences_filtered = []\n",
    "for x_seq, y_seq in zip(x_test_sequences, y_test_sequences):\n",
    "    if len(x_seq) <= 20:\n",
    "        continue\n",
    "        \n",
    "    x_test_sequences_filtered.append(x_seq)\n",
    "    y_test_sequences_filtered.append(y_seq)"
   ]
  },
  {
   "cell_type": "code",
   "execution_count": 63,
   "metadata": {},
   "outputs": [],
   "source": [
    "for chunk_i, chunk in enumerate([(0, 100), (100, 200), (200, len(x_test_sequences_filtered))]):\n",
    "    with open('data/cullpdb_x_test_sequences.%s.fasta' % chunk_i, 'w') as out_fasta:\n",
    "        for i, seq in enumerate(x_test_sequences_filtered[chunk[0]:chunk[1]]):\n",
    "            out_fasta.write('>sequence_%s\\n' % (chunk[0] + i))\n",
    "            out_fasta.write('%s\\n' % ''.join(seq))"
   ]
  },
  {
   "cell_type": "code",
   "execution_count": 83,
   "metadata": {},
   "outputs": [
    {
     "name": "stdout",
     "output_type": "stream",
     "text": [
      "Your job will be submitted with the following parameters:\n",
      "format: batch\n",
      "skipPDB: on\n",
      "file: data/cullpdb_x_test_sequences.1.fasta\n",
      "email: ms3u14@soton.ac.uk\n",
      "b'<h1>\\t\\tYou have successfully submitted 100 sequences to Jpred as a batch job. You should receive your results at ms3u14@soton.ac.uk in due course.</h1>'\n"
     ]
    }
   ],
   "source": [
    "# jpredapi.submit(mode='batch', user_format='fasta', file='data/cullpdb_x_test_sequences.0.fasta', skipPDB=True,\n",
    "#                 email='ms3u14@soton.ac.uk')\n",
    "jpredapi.submit(mode='batch', user_format='fasta', file='data/cullpdb_x_test_sequences.1.fasta', skipPDB=True,\n",
    "                email='ms3u14@soton.ac.uk')\n",
    "# jpredapi.submit(mode='batch', user_format='fasta', file='data/cullpdb_x_test_sequences.2.fasta', skipPDB=True,\n",
    "#                 email='ms3u14@soton.ac.uk')"
   ]
  },
  {
   "cell_type": "code",
   "execution_count": 159,
   "metadata": {},
   "outputs": [],
   "source": [
    "jpred_results = {}\n",
    "for dir_ in os.listdir('data'):\n",
    "    path_dir = 'data/%s/' % dir_\n",
    "    if not dir_.startswith('jp_batch_') or not os.path.isdir(path_dir):\n",
    "        continue\n",
    "    \n",
    "    result = None\n",
    "    sequence = None\n",
    "    for file in os.listdir(path_dir):\n",
    "        if file.startswith('sequence_'):\n",
    "            sequence = int(''.join([c for c in file[9:12] if c.isdigit()]))\n",
    "            continue\n",
    "        \n",
    "        if file.endswith('.jnet'):\n",
    "            with open(path_dir + file, 'r') as _in:\n",
    "                for line in _in:\n",
    "                    line_split = line.split(':')\n",
    "                    if len(line_split) <= 0:\n",
    "                        continue\n",
    "                        \n",
    "                    if line_split[0] == 'jnetpred':\n",
    "                        result = line_split[1].split(',')[:-1]\n",
    "                        continue\n",
    "    \n",
    "    if result is not None and sequence is not None:\n",
    "        jpred_results[sequence] = result"
   ]
  },
  {
   "cell_type": "code",
   "execution_count": 160,
   "metadata": {
    "scrolled": true
   },
   "outputs": [
    {
     "name": "stdout",
     "output_type": "stream",
     "text": [
      "62 62\n",
      "134 134\n",
      "393 393\n",
      "98 98\n",
      "93 93\n",
      "116 116\n",
      "176 176\n",
      "134 134\n",
      "144 144\n",
      "193 193\n",
      "102 102\n",
      "91 91\n",
      "92 92\n",
      "257 257\n",
      "283 283\n",
      "359 359\n",
      "248 248\n",
      "268 268\n",
      "205 205\n",
      "245 245\n",
      "47 47\n",
      "412 412\n",
      "109 109\n",
      "194 194\n",
      "299 299\n",
      "63 63\n",
      "157 157\n",
      "453 453\n",
      "289 289\n",
      "185 185\n",
      "295 295\n",
      "138 138\n",
      "326 326\n",
      "244 244\n",
      "149 149\n",
      "192 192\n",
      "138 138\n",
      "342 342\n",
      "278 278\n",
      "53 53\n",
      "171 171\n",
      "118 118\n",
      "252 252\n",
      "351 351\n",
      "209 209\n",
      "74 74\n",
      "319 319\n",
      "153 153\n",
      "265 265\n",
      "171 171\n",
      "68 68\n",
      "113 113\n",
      "109 109\n",
      "238 238\n",
      "75 75\n",
      "94 94\n",
      "388 388\n",
      "156 156\n",
      "371 371\n",
      "458 458\n",
      "167 167\n",
      "206 206\n",
      "256 256\n",
      "131 131\n",
      "224 224\n",
      "144 144\n",
      "143 143\n",
      "51 51\n",
      "122 122\n",
      "101 101\n",
      "246 246\n",
      "288 288\n",
      "72 72\n",
      "207 207\n",
      "92 92\n",
      "230 230\n",
      "139 139\n",
      "220 220\n",
      "442 442\n",
      "136 136\n",
      "181 181\n",
      "385 385\n",
      "192 192\n",
      "261 261\n",
      "180 180\n",
      "407 407\n",
      "119 119\n",
      "128 128\n",
      "152 152\n",
      "250 250\n",
      "227 227\n",
      "134 134\n",
      "250 250\n",
      "149 149\n",
      "70 70\n",
      "39 39\n",
      "139 139\n",
      "85 85\n",
      "258 258\n",
      "206 206\n",
      "192 192\n",
      "461 461\n",
      "171 171\n",
      "113 113\n",
      "58 58\n",
      "114 114\n",
      "377 377\n",
      "186 186\n",
      "182 182\n",
      "294 294\n",
      "73 73\n",
      "130 130\n",
      "80 80\n",
      "185 185\n",
      "129 129\n",
      "152 152\n",
      "117 117\n",
      "437 437\n",
      "270 270\n",
      "297 297\n",
      "190 190\n",
      "153 153\n",
      "149 149\n",
      "244 244\n",
      "107 107\n",
      "493 493\n",
      "97 97\n",
      "128 128\n",
      "241 241\n",
      "197 197\n",
      "176 176\n",
      "98 98\n",
      "198 198\n",
      "92 92\n",
      "131 131\n",
      "129 129\n",
      "313 313\n",
      "112 112\n",
      "181 181\n",
      "351 351\n",
      "59 59\n",
      "300 300\n",
      "208 208\n",
      "128 128\n",
      "338 338\n",
      "283 283\n",
      "70 70\n",
      "306 306\n",
      "83 83\n",
      "308 308\n",
      "147 147\n",
      "529 529\n",
      "220 220\n",
      "311 311\n",
      "172 172\n",
      "101 101\n",
      "235 235\n",
      "111 111\n",
      "244 244\n",
      "266 266\n",
      "543 543\n",
      "205 205\n",
      "236 236\n",
      "80 80\n",
      "385 385\n",
      "538 538\n",
      "90 90\n",
      "329 329\n",
      "132 132\n",
      "158 158\n",
      "401 401\n",
      "114 114\n",
      "180 180\n",
      "254 254\n",
      "120 120\n",
      "170 170\n",
      "93 93\n",
      "177 177\n",
      "581 581\n",
      "143 143\n",
      "199 199\n",
      "385 385\n",
      "253 253\n",
      "150 150\n",
      "160 160\n",
      "166 166\n",
      "88 88\n",
      "351 351\n",
      "66 66\n",
      "133 133\n",
      "105 105\n",
      "267 267\n",
      "275 275\n",
      "39 39\n",
      "155 155\n",
      "252 252\n",
      "141 141\n",
      "366 366\n",
      "168 168\n",
      "250 250\n",
      "245 245\n",
      "57 57\n",
      "238 238\n",
      "368 368\n",
      "91 91\n",
      "69 69\n",
      "423 423\n",
      "386 386\n",
      "119 119\n",
      "114 114\n",
      "118 118\n",
      "82 82\n",
      "146 146\n",
      "247 247\n",
      "155 155\n",
      "178 178\n",
      "78 78\n",
      "139 139\n",
      "632 632\n",
      "228 228\n",
      "75 75\n",
      "588 588\n",
      "342 342\n",
      "108 108\n",
      "141 141\n",
      "57 57\n",
      "454 454\n",
      "119 119\n",
      "111 111\n",
      "402 402\n",
      "135 135\n",
      "200 200\n",
      "118 118\n",
      "249 249\n",
      "183 183\n",
      "87 87\n",
      "102 102\n",
      "144 144\n",
      "90 90\n",
      "627 627\n",
      "134 134\n",
      "226 226\n",
      "108 108\n",
      "375 375\n",
      "503 503\n",
      "176 176\n",
      "235 235\n",
      "324 324\n",
      "213 213\n",
      "68 68\n",
      "389 389\n",
      "105 105\n",
      "76 76\n",
      "85 85\n",
      "122 122\n",
      "200 200\n",
      "336 336\n",
      "126 126\n",
      "296 296\n",
      "70 70\n",
      "172 172\n",
      "247 247\n",
      "57 57\n",
      "121 121\n",
      "462 462\n",
      "146 146\n",
      "437 437\n",
      "155 155\n",
      "189 189\n",
      "496 496\n",
      "128 128\n"
     ]
    }
   ],
   "source": [
    "for i in range(0, len(jpred_results)):\n",
    "    print(len(jpred_results[i]), len(y_test_sequences_filtered[i]))"
   ]
  },
  {
   "cell_type": "code",
   "execution_count": 161,
   "metadata": {},
   "outputs": [
    {
     "data": {
      "text/plain": [
       "(271, 271)"
      ]
     },
     "execution_count": 161,
     "metadata": {},
     "output_type": "execute_result"
    }
   ],
   "source": [
    "len(jpred_results), len(y_test_sequences_filtered)"
   ]
  },
  {
   "cell_type": "code",
   "execution_count": 162,
   "metadata": {
    "scrolled": true
   },
   "outputs": [
    {
     "data": {
      "text/plain": [
       "0.7958423358878534"
      ]
     },
     "execution_count": 162,
     "metadata": {},
     "output_type": "execute_result"
    }
   ],
   "source": [
    "means = []\n",
    "for sequence_i, result in jpred_results.items():\n",
    "    sequence_to_array(y_test_sequences_filtered[sequence_i])\n",
    "    means.append(np.mean(np.equal(sequence_to_array(y_test_sequences_filtered[sequence_i]), \n",
    "                                  sequence_to_array(result))))\n",
    "\n",
    "np.mean(means)"
   ]
  },
  {
   "cell_type": "code",
   "execution_count": 129,
   "metadata": {},
   "outputs": [
    {
     "data": {
      "text/plain": [
       "array([0, 0, 0, 2, 2, 2, 2, 2, 2, 2, 2, 2, 2, 2, 2, 0, 0, 0, 0, 2, 0, 0,\n",
       "       0, 0, 0, 0, 0, 0, 0, 0, 0, 0, 0, 2, 0, 0, 0, 2, 2, 2, 2, 2, 2, 2,\n",
       "       2, 2, 2, 2, 0, 1, 1, 1, 1, 1, 1, 1, 1, 0, 0, 0, 0, 0, 0, 0, 0, 0,\n",
       "       1, 1, 1, 1, 1, 1, 1, 1, 1, 1, 1, 1, 1, 1, 0, 0, 0, 0, 0, 1, 1, 1,\n",
       "       1, 1, 1, 1, 1, 1, 1, 1, 1, 1, 1, 1, 0, 0, 0, 0, 0, 2, 2, 2, 2, 2,\n",
       "       2, 2, 2, 2, 0, 2, 2, 2, 2, 2, 2, 2, 2, 0, 0, 2, 2, 2, 2, 2, 2, 2,\n",
       "       2, 2, 2, 2, 0, 0, 0, 0, 2, 2, 2, 2, 2, 2, 2, 2, 2, 2, 0, 0, 0, 0,\n",
       "       0, 2, 2, 2, 2, 2, 2, 2, 2, 2, 2, 2, 2, 2, 2, 2, 2, 2, 0, 0, 0, 2,\n",
       "       0, 2, 0, 0, 0, 0, 0, 0, 0, 0, 0, 0, 0, 0, 0, 2, 0, 0, 0, 0, 2, 2,\n",
       "       2, 2, 2, 2, 2, 2, 2, 2, 2, 0, 0, 1, 1, 1, 1, 1, 0, 0, 0, 1, 1, 1,\n",
       "       0, 0, 0, 1, 1, 1, 1, 1, 1, 1, 1, 1, 1, 1, 1, 1, 1, 0, 0, 2, 0, 0,\n",
       "       1, 1, 1, 1, 1, 1, 1, 1, 1, 1, 1, 1, 1, 1, 1, 0, 0, 0, 2, 2, 2, 2,\n",
       "       2, 2, 2, 2, 2, 2, 0, 0, 0, 2, 2, 2, 2, 0, 0, 0, 0, 0, 0, 0, 0, 0,\n",
       "       2, 2, 2, 0, 0, 0, 0, 0, 0, 2, 2, 2, 2, 2, 2, 2, 2, 0, 0, 0])"
      ]
     },
     "execution_count": 129,
     "metadata": {},
     "output_type": "execute_result"
    }
   ],
   "source": [
    "sequence_to_array(y_test_sequences_filtered[sequence_i])"
   ]
  },
  {
   "cell_type": "code",
   "execution_count": 130,
   "metadata": {},
   "outputs": [
    {
     "data": {
      "text/plain": [
       "array([0, 0, 0, 0, 0, 0, 0, 0, 0, 1, 1, 1, 1, 1, 1, 1, 1, 1, 1, 1, 1, 1,\n",
       "       1, 1, 1, 1, 0, 0, 0, 0, 0, 0, 0, 1, 1, 1, 1, 1, 1, 1, 1, 1, 1, 1,\n",
       "       1, 0, 0, 0, 0, 1, 1, 1, 1, 1, 1, 1, 1, 1, 1, 1, 1, 1, 1, 1, 1, 1,\n",
       "       1, 1, 0, 0])"
      ]
     },
     "execution_count": 130,
     "metadata": {},
     "output_type": "execute_result"
    }
   ],
   "source": [
    "sequence_to_array(result)"
   ]
  },
  {
   "cell_type": "markdown",
   "metadata": {},
   "source": [
    "## SCRATCH"
   ]
  },
  {
   "cell_type": "markdown",
   "metadata": {},
   "source": [
    "### Generate FASTA file "
   ]
  },
  {
   "cell_type": "code",
   "execution_count": null,
   "metadata": {
    "scrolled": true
   },
   "outputs": [],
   "source": [
    "with open('data/cullpdb_x_test_sequences.fasta', 'w') as out_fasta:\n",
    "    for i, seq in enumerate(x_test_sequences):\n",
    "        out_fasta.write('>sequence_%s\\n' % i)\n",
    "        out_fasta.write('%s\\n' % ''.join(seq))\n",
    "        \n",
    "        print('>sequence_%s' % i)\n",
    "        print('%s' % ''.join(seq))"
   ]
  },
  {
   "cell_type": "code",
   "execution_count": 27,
   "metadata": {},
   "outputs": [],
   "source": [
    "x_test_sequences_lenghts = defaultdict(int)\n",
    "for seq in x_test_sequences:\n",
    "    x_test_sequences_lenghts[len(seq)] += 1"
   ]
  },
  {
   "cell_type": "code",
   "execution_count": 29,
   "metadata": {},
   "outputs": [
    {
     "data": {
      "text/plain": [
       "224.09947643979058"
      ]
     },
     "execution_count": 29,
     "metadata": {},
     "output_type": "execute_result"
    }
   ],
   "source": [
    "sum(x_test_sequences_lenghts) / len(x_test_sequences_lenghts)"
   ]
  },
  {
   "cell_type": "code",
   "execution_count": 32,
   "metadata": {},
   "outputs": [
    {
     "data": {
      "text/plain": [
       "array([[1., 0., 0., ..., 0., 0., 0.],\n",
       "       [1., 0., 0., ..., 0., 0., 0.],\n",
       "       [1., 0., 0., ..., 0., 0., 0.],\n",
       "       ...,\n",
       "       [0., 0., 0., ..., 0., 0., 1.],\n",
       "       [0., 0., 0., ..., 0., 0., 1.],\n",
       "       [0., 0., 0., ..., 0., 0., 1.]])"
      ]
     },
     "execution_count": 32,
     "metadata": {},
     "output_type": "execute_result"
    }
   ],
   "source": [
    "y_test[0]"
   ]
  },
  {
   "cell_type": "code",
   "execution_count": null,
   "metadata": {},
   "outputs": [],
   "source": []
  }
 ],
 "metadata": {
  "kernelspec": {
   "display_name": "Environment (conda_tensorflow_p36)",
   "language": "python",
   "name": "conda_tensorflow_p36"
  },
  "language_info": {
   "codemirror_mode": {
    "name": "ipython",
    "version": 3
   },
   "file_extension": ".py",
   "mimetype": "text/x-python",
   "name": "python",
   "nbconvert_exporter": "python",
   "pygments_lexer": "ipython3",
   "version": "3.6.4"
  }
 },
 "nbformat": 4,
 "nbformat_minor": 2
}
